{
 "cells": [
  {
   "cell_type": "code",
   "id": "initial_id",
   "metadata": {
    "collapsed": true,
    "ExecuteTime": {
     "end_time": "2025-03-22T22:49:46.795120Z",
     "start_time": "2025-03-22T22:49:45.543977Z"
    }
   },
   "source": [
    "import pandas as pd\n",
    "import matplotlib.pyplot as plt\n",
    "import xarray as xr\n",
    "import cf_units\n",
    "\n",
    "df = pd.read_csv(\"datasets/co2_CMIP7_mon_000101-099912.csv\")\n",
    "df = pd.read_csv(\"datasets/co2_CMIP6Plus_mon_000101-202212.csv\")\n",
    "df.describe()"
   ],
   "outputs": [
    {
     "data": {
      "text/plain": [
       "               bnds           co2\n",
       "count  48528.000000  48528.000000\n",
       "mean       0.500000    282.613952\n",
       "std        0.500005     15.555042\n",
       "min        0.000000    273.187175\n",
       "25%        0.000000    277.522040\n",
       "50%        0.500000    279.284266\n",
       "75%        1.000000    281.457419\n",
       "max        1.000000    418.957985"
      ],
      "text/html": [
       "<div>\n",
       "<style scoped>\n",
       "    .dataframe tbody tr th:only-of-type {\n",
       "        vertical-align: middle;\n",
       "    }\n",
       "\n",
       "    .dataframe tbody tr th {\n",
       "        vertical-align: top;\n",
       "    }\n",
       "\n",
       "    .dataframe thead th {\n",
       "        text-align: right;\n",
       "    }\n",
       "</style>\n",
       "<table border=\"1\" class=\"dataframe\">\n",
       "  <thead>\n",
       "    <tr style=\"text-align: right;\">\n",
       "      <th></th>\n",
       "      <th>bnds</th>\n",
       "      <th>co2</th>\n",
       "    </tr>\n",
       "  </thead>\n",
       "  <tbody>\n",
       "    <tr>\n",
       "      <th>count</th>\n",
       "      <td>48528.000000</td>\n",
       "      <td>48528.000000</td>\n",
       "    </tr>\n",
       "    <tr>\n",
       "      <th>mean</th>\n",
       "      <td>0.500000</td>\n",
       "      <td>282.613952</td>\n",
       "    </tr>\n",
       "    <tr>\n",
       "      <th>std</th>\n",
       "      <td>0.500005</td>\n",
       "      <td>15.555042</td>\n",
       "    </tr>\n",
       "    <tr>\n",
       "      <th>min</th>\n",
       "      <td>0.000000</td>\n",
       "      <td>273.187175</td>\n",
       "    </tr>\n",
       "    <tr>\n",
       "      <th>25%</th>\n",
       "      <td>0.000000</td>\n",
       "      <td>277.522040</td>\n",
       "    </tr>\n",
       "    <tr>\n",
       "      <th>50%</th>\n",
       "      <td>0.500000</td>\n",
       "      <td>279.284266</td>\n",
       "    </tr>\n",
       "    <tr>\n",
       "      <th>75%</th>\n",
       "      <td>1.000000</td>\n",
       "      <td>281.457419</td>\n",
       "    </tr>\n",
       "    <tr>\n",
       "      <th>max</th>\n",
       "      <td>1.000000</td>\n",
       "      <td>418.957985</td>\n",
       "    </tr>\n",
       "  </tbody>\n",
       "</table>\n",
       "</div>"
      ]
     },
     "execution_count": 1,
     "metadata": {},
     "output_type": "execute_result"
    }
   ],
   "execution_count": 1
  },
  {
   "metadata": {
    "ExecuteTime": {
     "end_time": "2025-03-22T22:49:49.628719Z",
     "start_time": "2025-03-22T22:49:49.483746Z"
    }
   },
   "cell_type": "code",
   "source": [
    "data_path = \"../../../../.esgpull/data/input4MIPs\"\n",
    "\n",
    "for gas in [\"ch4\", \"co2\"]:\n",
    "    era = \"CMIP6Plus\"\n",
    "    freq = \"mon\"\n",
    "    id = \"000101-202212\"\n",
    "    p1=f\"/{era}/CMIP/CR/CR-CMIP-0-3-0/atmos/{freq}/{gas}/gm/v20240806/{gas}_input4MIPs_GHGConcentrations_CMIP_CR-CMIP-0-3-0_gm_{id}.nc\"\n",
    "    d = xr.open_dataset(data_path + p1)\n"
   ],
   "id": "9bf098b75e7f71fb",
   "outputs": [
    {
     "name": "stderr",
     "output_type": "stream",
     "text": [
      "C:\\Users\\FlorenceBockting\\miniconda3\\envs\\earth-observations\\Lib\\site-packages\\xarray\\coding\\times.py:1005: SerializationWarning: Unable to decode time axis into full numpy.datetime64 objects, continuing using cftime.datetime objects instead, reason: dates out of range\n",
      "  dtype = _decode_cf_datetime_dtype(data, units, calendar, self.use_cftime)\n",
      "C:\\Users\\FlorenceBockting\\miniconda3\\envs\\earth-observations\\Lib\\site-packages\\xarray\\coding\\times.py:1005: SerializationWarning: Unable to decode time axis into full numpy.datetime64 objects, continuing using cftime.datetime objects instead, reason: dates out of range\n",
      "  dtype = _decode_cf_datetime_dtype(data, units, calendar, self.use_cftime)\n",
      "C:\\Users\\FlorenceBockting\\miniconda3\\envs\\earth-observations\\Lib\\site-packages\\xarray\\core\\indexing.py:514: SerializationWarning: Unable to decode time axis into full numpy.datetime64 objects, continuing using cftime.datetime objects instead, reason: dates out of range\n",
      "  return np.asarray(self.get_duck_array(), dtype=dtype, copy=copy)\n",
      "C:\\Users\\FlorenceBockting\\miniconda3\\envs\\earth-observations\\Lib\\site-packages\\xarray\\coding\\times.py:1005: SerializationWarning: Unable to decode time axis into full numpy.datetime64 objects, continuing using cftime.datetime objects instead, reason: dates out of range\n",
      "  dtype = _decode_cf_datetime_dtype(data, units, calendar, self.use_cftime)\n",
      "C:\\Users\\FlorenceBockting\\miniconda3\\envs\\earth-observations\\Lib\\site-packages\\xarray\\coding\\times.py:1005: SerializationWarning: Unable to decode time axis into full numpy.datetime64 objects, continuing using cftime.datetime objects instead, reason: dates out of range\n",
      "  dtype = _decode_cf_datetime_dtype(data, units, calendar, self.use_cftime)\n",
      "C:\\Users\\FlorenceBockting\\miniconda3\\envs\\earth-observations\\Lib\\site-packages\\xarray\\core\\indexing.py:514: SerializationWarning: Unable to decode time axis into full numpy.datetime64 objects, continuing using cftime.datetime objects instead, reason: dates out of range\n",
      "  return np.asarray(self.get_duck_array(), dtype=dtype, copy=copy)\n"
     ]
    }
   ],
   "execution_count": 2
  },
  {
   "metadata": {
    "ExecuteTime": {
     "end_time": "2025-03-22T23:02:24.837336Z",
     "start_time": "2025-03-22T23:02:24.820295Z"
    }
   },
   "cell_type": "code",
   "source": [
    "\n",
    "import cf_units\n",
    "import datetime\n",
    "d.time.attrs[\"time\"]"
   ],
   "id": "cbb1bbb251edac87",
   "outputs": [
    {
     "ename": "KeyError",
     "evalue": "'time'",
     "output_type": "error",
     "traceback": [
      "\u001B[1;31m---------------------------------------------------------------------------\u001B[0m",
      "\u001B[1;31mKeyError\u001B[0m                                  Traceback (most recent call last)",
      "Cell \u001B[1;32mIn[39], line 3\u001B[0m\n\u001B[0;32m      1\u001B[0m \u001B[38;5;28;01mimport\u001B[39;00m \u001B[38;5;21;01mcf_units\u001B[39;00m\n\u001B[0;32m      2\u001B[0m \u001B[38;5;28;01mimport\u001B[39;00m \u001B[38;5;21;01mdatetime\u001B[39;00m\n\u001B[1;32m----> 3\u001B[0m d\u001B[38;5;241m.\u001B[39mtime\u001B[38;5;241m.\u001B[39mattrs[\u001B[38;5;124m\"\u001B[39m\u001B[38;5;124mtime\u001B[39m\u001B[38;5;124m\"\u001B[39m]\n",
      "\u001B[1;31mKeyError\u001B[0m: 'time'"
     ]
    }
   ],
   "execution_count": 39
  },
  {
   "metadata": {
    "ExecuteTime": {
     "end_time": "2025-03-23T07:00:41.896744Z",
     "start_time": "2025-03-23T07:00:38.628549Z"
    }
   },
   "cell_type": "code",
   "source": [
    "years = [d.time.values[i].year for i in range(len(d.time))]\n",
    "months = [d.time.values[i].month for i in range(len(d.time))]\n",
    "days = [d.time.values[i].day for i in range(len(d.time))]"
   ],
   "id": "b6178a6b5a465b07",
   "outputs": [],
   "execution_count": 60
  },
  {
   "metadata": {
    "ExecuteTime": {
     "end_time": "2025-03-23T07:03:31.198349Z",
     "start_time": "2025-03-23T07:03:27.735476Z"
    }
   },
   "cell_type": "code",
   "source": [
    "df = pd.DataFrame(\n",
    "    dict(\n",
    "        year = [d.time.values[i].year for i in range(len(d.time))],\n",
    "        month = [d.time.values[i].month for i in range(len(d.time))],\n",
    "        day = [d.time.values[i].day for i in range(len(d.time))],\n",
    "        co2 = d.co2.values\n",
    "    )\n",
    ")"
   ],
   "id": "90e7ede4b42ba267",
   "outputs": [],
   "execution_count": 65
  },
  {
   "metadata": {
    "ExecuteTime": {
     "end_time": "2025-03-23T16:05:17.740263Z",
     "start_time": "2025-03-23T16:05:17.661953Z"
    }
   },
   "cell_type": "code",
   "source": "",
   "id": "396b94f6278ee43d",
   "outputs": [],
   "execution_count": 166
  },
  {
   "metadata": {
    "ExecuteTime": {
     "end_time": "2025-03-23T09:58:26.765818Z",
     "start_time": "2025-03-23T09:58:25.130412Z"
    }
   },
   "cell_type": "code",
   "source": [
    "import numpy as np\n",
    "\n",
    "for version in np.unique(df1[\"version\"]):\n",
    "    plt.plot(df1[df1[\"version\"] == version][\"year_month\"], df1[df1[\"version\"] == version][\"values\"], label=version)\n",
    "    plt.legend()"
   ],
   "id": "8bdd232f3f264d28",
   "outputs": [
    {
     "data": {
      "text/plain": [
       "<Figure size 640x480 with 1 Axes>"
      ],
      "image/png": "[encoded data removed]"
     },
     "metadata": {},
     "output_type": "display_data"
    }
   ],
   "execution_count": 165
  },
  {
   "metadata": {
    "ExecuteTime": {
     "end_time": "2025-03-23T09:43:34.677631Z",
     "start_time": "2025-03-23T09:43:34.628754Z"
    }
   },
   "cell_type": "code",
   "source": [
    "df1 = pd.read_csv(\"datasets/prep_co2_CMIP6Plus_mon_000101-202212_v20240806.csv\").drop(\"Unnamed: 0\", axis=1)\n",
    "df2 = pd.read_csv(\"datasets/prep_co2_CMIP6Plus_mon_175001-202212_v20241205.csv\").drop(\"Unnamed: 0\", axis=1)\n",
    "df3 = pd.read_csv(\"datasets/prep_co2_CMIP7_mon_175001-202212_v20250228.csv\").drop(\"Unnamed: 0\", axis=1)\n",
    "\n",
    "d_co2 = df1.merge(df2, how=\"outer\").merge(df3, how=\"outer\")"
   ],
   "id": "96cd6db0b7ea4017",
   "outputs": [
    {
     "data": {
      "text/plain": [
       "     year  month          version  gas freq        era      values year_month\n",
       "0    2003      1  v20240806-0-3-0  co2  mon  CMIP6Plus  376.191776     2003-1\n",
       "1    2003      1  v20241205-0-4-0  co2  mon  CMIP6Plus  375.546630     2003-1\n",
       "2    2003      1  v20250228-1-0-0  co2  mon      CMIP7  375.546630     2003-1\n",
       "3    2003      2  v20240806-0-3-0  co2  mon  CMIP6Plus  376.690423     2003-2\n",
       "4    2003      2  v20241205-0-4-0  co2  mon  CMIP6Plus  376.075680     2003-2\n",
       "..    ...    ...              ...  ...  ...        ...         ...        ...\n",
       "715  2022     11  v20241205-0-4-0  co2  mon  CMIP6Plus  418.232330    2022-11\n",
       "716  2022     11  v20250228-1-0-0  co2  mon      CMIP7  418.232330    2022-11\n",
       "717  2022     12  v20240806-0-3-0  co2  mon  CMIP6Plus  418.739124    2022-12\n",
       "718  2022     12  v20241205-0-4-0  co2  mon  CMIP6Plus  419.259430    2022-12\n",
       "719  2022     12  v20250228-1-0-0  co2  mon      CMIP7  419.259430    2022-12\n",
       "\n",
       "[720 rows x 8 columns]"
      ],
      "text/html": [
       "<div>\n",
       "<style scoped>\n",
       "    .dataframe tbody tr th:only-of-type {\n",
       "        vertical-align: middle;\n",
       "    }\n",
       "\n",
       "    .dataframe tbody tr th {\n",
       "        vertical-align: top;\n",
       "    }\n",
       "\n",
       "    .dataframe thead th {\n",
       "        text-align: right;\n",
       "    }\n",
       "</style>\n",
       "<table border=\"1\" class=\"dataframe\">\n",
       "  <thead>\n",
       "    <tr style=\"text-align: right;\">\n",
       "      <th></th>\n",
       "      <th>year</th>\n",
       "      <th>month</th>\n",
       "      <th>version</th>\n",
       "      <th>gas</th>\n",
       "      <th>freq</th>\n",
       "      <th>era</th>\n",
       "      <th>values</th>\n",
       "      <th>year_month</th>\n",
       "    </tr>\n",
       "  </thead>\n",
       "  <tbody>\n",
       "    <tr>\n",
       "      <th>0</th>\n",
       "      <td>2003</td>\n",
       "      <td>1</td>\n",
       "      <td>v20240806-0-3-0</td>\n",
       "      <td>co2</td>\n",
       "      <td>mon</td>\n",
       "      <td>CMIP6Plus</td>\n",
       "      <td>376.191776</td>\n",
       "      <td>2003-1</td>\n",
       "    </tr>\n",
       "    <tr>\n",
       "      <th>1</th>\n",
       "      <td>2003</td>\n",
       "      <td>1</td>\n",
       "      <td>v20241205-0-4-0</td>\n",
       "      <td>co2</td>\n",
       "      <td>mon</td>\n",
       "      <td>CMIP6Plus</td>\n",
       "      <td>375.546630</td>\n",
       "      <td>2003-1</td>\n",
       "    </tr>\n",
       "    <tr>\n",
       "      <th>2</th>\n",
       "      <td>2003</td>\n",
       "      <td>1</td>\n",
       "      <td>v20250228-1-0-0</td>\n",
       "      <td>co2</td>\n",
       "      <td>mon</td>\n",
       "      <td>CMIP7</td>\n",
       "      <td>375.546630</td>\n",
       "      <td>2003-1</td>\n",
       "    </tr>\n",
       "    <tr>\n",
       "      <th>3</th>\n",
       "      <td>2003</td>\n",
       "      <td>2</td>\n",
       "      <td>v20240806-0-3-0</td>\n",
       "      <td>co2</td>\n",
       "      <td>mon</td>\n",
       "      <td>CMIP6Plus</td>\n",
       "      <td>376.690423</td>\n",
       "      <td>2003-2</td>\n",
       "    </tr>\n",
       "    <tr>\n",
       "      <th>4</th>\n",
       "      <td>2003</td>\n",
       "      <td>2</td>\n",
       "      <td>v20241205-0-4-0</td>\n",
       "      <td>co2</td>\n",
       "      <td>mon</td>\n",
       "      <td>CMIP6Plus</td>\n",
       "      <td>376.075680</td>\n",
       "      <td>2003-2</td>\n",
       "    </tr>\n",
       "    <tr>\n",
       "      <th>...</th>\n",
       "      <td>...</td>\n",
       "      <td>...</td>\n",
       "      <td>...</td>\n",
       "      <td>...</td>\n",
       "      <td>...</td>\n",
       "      <td>...</td>\n",
       "      <td>...</td>\n",
       "      <td>...</td>\n",
       "    </tr>\n",
       "    <tr>\n",
       "      <th>715</th>\n",
       "      <td>2022</td>\n",
       "      <td>11</td>\n",
       "      <td>v20241205-0-4-0</td>\n",
       "      <td>co2</td>\n",
       "      <td>mon</td>\n",
       "      <td>CMIP6Plus</td>\n",
       "      <td>418.232330</td>\n",
       "      <td>2022-11</td>\n",
       "    </tr>\n",
       "    <tr>\n",
       "      <th>716</th>\n",
       "      <td>2022</td>\n",
       "      <td>11</td>\n",
       "      <td>v20250228-1-0-0</td>\n",
       "      <td>co2</td>\n",
       "      <td>mon</td>\n",
       "      <td>CMIP7</td>\n",
       "      <td>418.232330</td>\n",
       "      <td>2022-11</td>\n",
       "    </tr>\n",
       "    <tr>\n",
       "      <th>717</th>\n",
       "      <td>2022</td>\n",
       "      <td>12</td>\n",
       "      <td>v20240806-0-3-0</td>\n",
       "      <td>co2</td>\n",
       "      <td>mon</td>\n",
       "      <td>CMIP6Plus</td>\n",
       "      <td>418.739124</td>\n",
       "      <td>2022-12</td>\n",
       "    </tr>\n",
       "    <tr>\n",
       "      <th>718</th>\n",
       "      <td>2022</td>\n",
       "      <td>12</td>\n",
       "      <td>v20241205-0-4-0</td>\n",
       "      <td>co2</td>\n",
       "      <td>mon</td>\n",
       "      <td>CMIP6Plus</td>\n",
       "      <td>419.259430</td>\n",
       "      <td>2022-12</td>\n",
       "    </tr>\n",
       "    <tr>\n",
       "      <th>719</th>\n",
       "      <td>2022</td>\n",
       "      <td>12</td>\n",
       "      <td>v20250228-1-0-0</td>\n",
       "      <td>co2</td>\n",
       "      <td>mon</td>\n",
       "      <td>CMIP7</td>\n",
       "      <td>419.259430</td>\n",
       "      <td>2022-12</td>\n",
       "    </tr>\n",
       "  </tbody>\n",
       "</table>\n",
       "<p>720 rows × 8 columns</p>\n",
       "</div>"
      ]
     },
     "execution_count": 155,
     "metadata": {},
     "output_type": "execute_result"
    }
   ],
   "execution_count": 155
  },
  {
   "metadata": {
    "ExecuteTime": {
     "end_time": "2025-03-23T09:03:13.740918Z",
     "start_time": "2025-03-23T09:03:13.719537Z"
    }
   },
   "cell_type": "code",
   "source": [
    "import os\n",
    "\n",
    "for file in os.listdir(\"datasets\"):\n",
    "    if file.startswith(\"prep_co2\"):\n",
    "        df=pd.read_csv(os.path.join(\"datasets\", file))\n",
    "        df.join(df)\n"
   ],
   "id": "faf8f4804c4af9da",
   "outputs": [
    {
     "name": "stdout",
     "output_type": "stream",
     "text": [
      "   Unnamed: 0  year  month         co2 year_month\n",
      "0           0  2003      1  376.191776     2003-1\n",
      "1           1  2003      2  376.690423     2003-2\n",
      "2           2  2003      3  377.040571     2003-3\n",
      "3           3  2003      4  377.220461     2003-4\n",
      "   Unnamed: 0  year  month        co2 year_month\n",
      "0           0  2003      1  375.54663     2003-1\n",
      "1           1  2003      2  376.07568     2003-2\n",
      "2           2  2003      3  376.52676     2003-3\n",
      "3           3  2003      4  376.85886     2003-4\n",
      "   Unnamed: 0  year  month        co2 year_month\n",
      "0           0  2003      1  375.54663     2003-1\n",
      "1           1  2003      2  376.07568     2003-2\n",
      "2           2  2003      3  376.52676     2003-3\n",
      "3           3  2003      4  376.85886     2003-4\n"
     ]
    }
   ],
   "execution_count": 132
  },
  {
   "metadata": {
    "ExecuteTime": {
     "end_time": "2025-03-23T08:48:20.792229Z",
     "start_time": "2025-03-23T08:48:20.743294Z"
    }
   },
   "cell_type": "code",
   "source": [
    "import numpy as np\n",
    "\n",
    "np.stack(df_co2"
   ],
   "id": "2b06fb1c86b581dc",
   "outputs": [
    {
     "ename": "ValueError",
     "evalue": "all input arrays must have the same shape",
     "output_type": "error",
     "traceback": [
      "\u001B[1;31m---------------------------------------------------------------------------\u001B[0m",
      "\u001B[1;31mValueError\u001B[0m                                Traceback (most recent call last)",
      "Cell \u001B[1;32mIn[126], line 3\u001B[0m\n\u001B[0;32m      1\u001B[0m \u001B[38;5;28;01mimport\u001B[39;00m \u001B[38;5;21;01mnumpy\u001B[39;00m \u001B[38;5;28;01mas\u001B[39;00m \u001B[38;5;21;01mnp\u001B[39;00m\n\u001B[1;32m----> 3\u001B[0m np\u001B[38;5;241m.\u001B[39mstack(df_co2)\n",
      "File \u001B[1;32m~\\miniconda3\\envs\\earth-observations\\Lib\\site-packages\\numpy\\_core\\shape_base.py:460\u001B[0m, in \u001B[0;36mstack\u001B[1;34m(arrays, axis, out, dtype, casting)\u001B[0m\n\u001B[0;32m    458\u001B[0m shapes \u001B[38;5;241m=\u001B[39m {arr\u001B[38;5;241m.\u001B[39mshape \u001B[38;5;28;01mfor\u001B[39;00m arr \u001B[38;5;129;01min\u001B[39;00m arrays}\n\u001B[0;32m    459\u001B[0m \u001B[38;5;28;01mif\u001B[39;00m \u001B[38;5;28mlen\u001B[39m(shapes) \u001B[38;5;241m!=\u001B[39m \u001B[38;5;241m1\u001B[39m:\n\u001B[1;32m--> 460\u001B[0m     \u001B[38;5;28;01mraise\u001B[39;00m \u001B[38;5;167;01mValueError\u001B[39;00m(\u001B[38;5;124m'\u001B[39m\u001B[38;5;124mall input arrays must have the same shape\u001B[39m\u001B[38;5;124m'\u001B[39m)\n\u001B[0;32m    462\u001B[0m result_ndim \u001B[38;5;241m=\u001B[39m arrays[\u001B[38;5;241m0\u001B[39m]\u001B[38;5;241m.\u001B[39mndim \u001B[38;5;241m+\u001B[39m \u001B[38;5;241m1\u001B[39m\n\u001B[0;32m    463\u001B[0m axis \u001B[38;5;241m=\u001B[39m normalize_axis_index(axis, result_ndim)\n",
      "\u001B[1;31mValueError\u001B[0m: all input arrays must have the same shape"
     ]
    }
   ],
   "execution_count": 126
  },
  {
   "metadata": {
    "ExecuteTime": {
     "end_time": "2025-03-23T07:55:30.155117Z",
     "start_time": "2025-03-23T07:55:30.042418Z"
    }
   },
   "cell_type": "code",
   "source": [
    "import itertools\n",
    "\n",
    "ids = [\"000101-202212\", \"000101-099912\", \"100001-174912\", \"175001-202212\"]\n",
    "eras = [\"CMIP6Plus\", \"CIMP7\"]\n",
    "gasses = [\"ch4\", \"co2\"]\n",
    "freq = \"mon\"\n",
    "\n",
    "for era, gas, id in itertools.product(eras, gasses, ids):\n",
    "    try:\n",
    "        pd.read_csv(f\"datasets/{gas}_{era}_mon_{id}.csv\")\n",
    "    except:\n",
    "        continue\n",
    "    else:\n",
    "        df = pd.read_csv(f\"datasets/{gas}_{era}_mon_{id}.csv\")\n",
    "        df_prep = df[df[\"year\"] > 2002].groupby([\"year\", \"month\"]).agg({gas: \"mean\"}).reset_index()\n",
    "\n",
    "        df_prep[\"year_month\"] = df_prep[\"year\"].values.astype(str) + \"-\" + df_prep[\"month\"].values.astype(str)\n",
    "\n",
    "        df_prep.to_csv(\"datasets/prep_\" + gas + \"_\" + era + \"_\" + freq + id + \".csv\")\n",
    "        #ax.plot(df_prep[\"year_month\"], df_prep[gas], label=gas+\"-\"+era)\n",
    "        #plt.title(era+\": monthly avg. \"+gas)\n"
   ],
   "id": "fe8efa4c29c3395f",
   "outputs": [],
   "execution_count": 118
  },
  {
   "metadata": {
    "ExecuteTime": {
     "end_time": "2025-03-23T07:54:30.149018Z",
     "start_time": "2025-03-23T07:54:30.136343Z"
    }
   },
   "cell_type": "code",
   "source": "list(itertools.product(eras, gasses, ids))\n",
   "id": "9dc0f0c9e4766af8",
   "outputs": [
    {
     "data": {
      "text/plain": [
       "[('CMIP6Plus', 'ch4', '000101-202212'),\n",
       " ('CMIP6Plus', 'ch4', '000101-099912'),\n",
       " ('CMIP6Plus', 'ch4', '100001-174912'),\n",
       " ('CMIP6Plus', 'ch4', '175001-202212'),\n",
       " ('CMIP6Plus', 'co2', '000101-202212'),\n",
       " ('CMIP6Plus', 'co2', '000101-099912'),\n",
       " ('CMIP6Plus', 'co2', '100001-174912'),\n",
       " ('CMIP6Plus', 'co2', '175001-202212'),\n",
       " ('CIMP7', 'ch4', '000101-202212'),\n",
       " ('CIMP7', 'ch4', '000101-099912'),\n",
       " ('CIMP7', 'ch4', '100001-174912'),\n",
       " ('CIMP7', 'ch4', '175001-202212'),\n",
       " ('CIMP7', 'co2', '000101-202212'),\n",
       " ('CIMP7', 'co2', '000101-099912'),\n",
       " ('CIMP7', 'co2', '100001-174912'),\n",
       " ('CIMP7', 'co2', '175001-202212')]"
      ]
     },
     "execution_count": 116,
     "metadata": {},
     "output_type": "execute_result"
    }
   ],
   "execution_count": 116
  },
  {
   "metadata": {
    "ExecuteTime": {
     "end_time": "2025-03-23T07:47:33.573973Z",
     "start_time": "2025-03-23T07:47:33.446038Z"
    }
   },
   "cell_type": "code",
   "source": [
    "gas = \"co2\"\n",
    "era = \"CMIP6Plus\"\n",
    "\n",
    "pd.read_csv(f\"datasets/{gas}_{era}_mon.csv\")"
   ],
   "id": "83a2ddefd90f0471",
   "outputs": [
    {
     "ename": "FileNotFoundError",
     "evalue": "[Errno 2] No such file or directory: 'datasets/co2_CMIP6Plus_mon.csv'",
     "output_type": "error",
     "traceback": [
      "\u001B[1;31m---------------------------------------------------------------------------\u001B[0m",
      "\u001B[1;31mFileNotFoundError\u001B[0m                         Traceback (most recent call last)",
      "Cell \u001B[1;32mIn[108], line 4\u001B[0m\n\u001B[0;32m      1\u001B[0m gas \u001B[38;5;241m=\u001B[39m \u001B[38;5;124m\"\u001B[39m\u001B[38;5;124mco2\u001B[39m\u001B[38;5;124m\"\u001B[39m\n\u001B[0;32m      2\u001B[0m era \u001B[38;5;241m=\u001B[39m \u001B[38;5;124m\"\u001B[39m\u001B[38;5;124mCMIP6Plus\u001B[39m\u001B[38;5;124m\"\u001B[39m\n\u001B[1;32m----> 4\u001B[0m pd\u001B[38;5;241m.\u001B[39mread_csv(\u001B[38;5;124mf\u001B[39m\u001B[38;5;124m\"\u001B[39m\u001B[38;5;124mdatasets/\u001B[39m\u001B[38;5;132;01m{\u001B[39;00mgas\u001B[38;5;132;01m}\u001B[39;00m\u001B[38;5;124m_\u001B[39m\u001B[38;5;132;01m{\u001B[39;00mera\u001B[38;5;132;01m}\u001B[39;00m\u001B[38;5;124m_mon.csv\u001B[39m\u001B[38;5;124m\"\u001B[39m)\n",
      "File \u001B[1;32m~\\miniconda3\\envs\\earth-observations\\Lib\\site-packages\\pandas\\io\\parsers\\readers.py:1026\u001B[0m, in \u001B[0;36mread_csv\u001B[1;34m(filepath_or_buffer, sep, delimiter, header, names, index_col, usecols, dtype, engine, converters, true_values, false_values, skipinitialspace, skiprows, skipfooter, nrows, na_values, keep_default_na, na_filter, verbose, skip_blank_lines, parse_dates, infer_datetime_format, keep_date_col, date_parser, date_format, dayfirst, cache_dates, iterator, chunksize, compression, thousands, decimal, lineterminator, quotechar, quoting, doublequote, escapechar, comment, encoding, encoding_errors, dialect, on_bad_lines, delim_whitespace, low_memory, memory_map, float_precision, storage_options, dtype_backend)\u001B[0m\n\u001B[0;32m   1013\u001B[0m kwds_defaults \u001B[38;5;241m=\u001B[39m _refine_defaults_read(\n\u001B[0;32m   1014\u001B[0m     dialect,\n\u001B[0;32m   1015\u001B[0m     delimiter,\n\u001B[1;32m   (...)\u001B[0m\n\u001B[0;32m   1022\u001B[0m     dtype_backend\u001B[38;5;241m=\u001B[39mdtype_backend,\n\u001B[0;32m   1023\u001B[0m )\n\u001B[0;32m   1024\u001B[0m kwds\u001B[38;5;241m.\u001B[39mupdate(kwds_defaults)\n\u001B[1;32m-> 1026\u001B[0m \u001B[38;5;28;01mreturn\u001B[39;00m _read(filepath_or_buffer, kwds)\n",
      "File \u001B[1;32m~\\miniconda3\\envs\\earth-observations\\Lib\\site-packages\\pandas\\io\\parsers\\readers.py:620\u001B[0m, in \u001B[0;36m_read\u001B[1;34m(filepath_or_buffer, kwds)\u001B[0m\n\u001B[0;32m    617\u001B[0m _validate_names(kwds\u001B[38;5;241m.\u001B[39mget(\u001B[38;5;124m\"\u001B[39m\u001B[38;5;124mnames\u001B[39m\u001B[38;5;124m\"\u001B[39m, \u001B[38;5;28;01mNone\u001B[39;00m))\n\u001B[0;32m    619\u001B[0m \u001B[38;5;66;03m# Create the parser.\u001B[39;00m\n\u001B[1;32m--> 620\u001B[0m parser \u001B[38;5;241m=\u001B[39m TextFileReader(filepath_or_buffer, \u001B[38;5;241m*\u001B[39m\u001B[38;5;241m*\u001B[39mkwds)\n\u001B[0;32m    622\u001B[0m \u001B[38;5;28;01mif\u001B[39;00m chunksize \u001B[38;5;129;01mor\u001B[39;00m iterator:\n\u001B[0;32m    623\u001B[0m     \u001B[38;5;28;01mreturn\u001B[39;00m parser\n",
      "File \u001B[1;32m~\\miniconda3\\envs\\earth-observations\\Lib\\site-packages\\pandas\\io\\parsers\\readers.py:1620\u001B[0m, in \u001B[0;36mTextFileReader.__init__\u001B[1;34m(self, f, engine, **kwds)\u001B[0m\n\u001B[0;32m   1617\u001B[0m     \u001B[38;5;28mself\u001B[39m\u001B[38;5;241m.\u001B[39moptions[\u001B[38;5;124m\"\u001B[39m\u001B[38;5;124mhas_index_names\u001B[39m\u001B[38;5;124m\"\u001B[39m] \u001B[38;5;241m=\u001B[39m kwds[\u001B[38;5;124m\"\u001B[39m\u001B[38;5;124mhas_index_names\u001B[39m\u001B[38;5;124m\"\u001B[39m]\n\u001B[0;32m   1619\u001B[0m \u001B[38;5;28mself\u001B[39m\u001B[38;5;241m.\u001B[39mhandles: IOHandles \u001B[38;5;241m|\u001B[39m \u001B[38;5;28;01mNone\u001B[39;00m \u001B[38;5;241m=\u001B[39m \u001B[38;5;28;01mNone\u001B[39;00m\n\u001B[1;32m-> 1620\u001B[0m \u001B[38;5;28mself\u001B[39m\u001B[38;5;241m.\u001B[39m_engine \u001B[38;5;241m=\u001B[39m \u001B[38;5;28mself\u001B[39m\u001B[38;5;241m.\u001B[39m_make_engine(f, \u001B[38;5;28mself\u001B[39m\u001B[38;5;241m.\u001B[39mengine)\n",
      "File \u001B[1;32m~\\miniconda3\\envs\\earth-observations\\Lib\\site-packages\\pandas\\io\\parsers\\readers.py:1880\u001B[0m, in \u001B[0;36mTextFileReader._make_engine\u001B[1;34m(self, f, engine)\u001B[0m\n\u001B[0;32m   1878\u001B[0m     \u001B[38;5;28;01mif\u001B[39;00m \u001B[38;5;124m\"\u001B[39m\u001B[38;5;124mb\u001B[39m\u001B[38;5;124m\"\u001B[39m \u001B[38;5;129;01mnot\u001B[39;00m \u001B[38;5;129;01min\u001B[39;00m mode:\n\u001B[0;32m   1879\u001B[0m         mode \u001B[38;5;241m+\u001B[39m\u001B[38;5;241m=\u001B[39m \u001B[38;5;124m\"\u001B[39m\u001B[38;5;124mb\u001B[39m\u001B[38;5;124m\"\u001B[39m\n\u001B[1;32m-> 1880\u001B[0m \u001B[38;5;28mself\u001B[39m\u001B[38;5;241m.\u001B[39mhandles \u001B[38;5;241m=\u001B[39m get_handle(\n\u001B[0;32m   1881\u001B[0m     f,\n\u001B[0;32m   1882\u001B[0m     mode,\n\u001B[0;32m   1883\u001B[0m     encoding\u001B[38;5;241m=\u001B[39m\u001B[38;5;28mself\u001B[39m\u001B[38;5;241m.\u001B[39moptions\u001B[38;5;241m.\u001B[39mget(\u001B[38;5;124m\"\u001B[39m\u001B[38;5;124mencoding\u001B[39m\u001B[38;5;124m\"\u001B[39m, \u001B[38;5;28;01mNone\u001B[39;00m),\n\u001B[0;32m   1884\u001B[0m     compression\u001B[38;5;241m=\u001B[39m\u001B[38;5;28mself\u001B[39m\u001B[38;5;241m.\u001B[39moptions\u001B[38;5;241m.\u001B[39mget(\u001B[38;5;124m\"\u001B[39m\u001B[38;5;124mcompression\u001B[39m\u001B[38;5;124m\"\u001B[39m, \u001B[38;5;28;01mNone\u001B[39;00m),\n\u001B[0;32m   1885\u001B[0m     memory_map\u001B[38;5;241m=\u001B[39m\u001B[38;5;28mself\u001B[39m\u001B[38;5;241m.\u001B[39moptions\u001B[38;5;241m.\u001B[39mget(\u001B[38;5;124m\"\u001B[39m\u001B[38;5;124mmemory_map\u001B[39m\u001B[38;5;124m\"\u001B[39m, \u001B[38;5;28;01mFalse\u001B[39;00m),\n\u001B[0;32m   1886\u001B[0m     is_text\u001B[38;5;241m=\u001B[39mis_text,\n\u001B[0;32m   1887\u001B[0m     errors\u001B[38;5;241m=\u001B[39m\u001B[38;5;28mself\u001B[39m\u001B[38;5;241m.\u001B[39moptions\u001B[38;5;241m.\u001B[39mget(\u001B[38;5;124m\"\u001B[39m\u001B[38;5;124mencoding_errors\u001B[39m\u001B[38;5;124m\"\u001B[39m, \u001B[38;5;124m\"\u001B[39m\u001B[38;5;124mstrict\u001B[39m\u001B[38;5;124m\"\u001B[39m),\n\u001B[0;32m   1888\u001B[0m     storage_options\u001B[38;5;241m=\u001B[39m\u001B[38;5;28mself\u001B[39m\u001B[38;5;241m.\u001B[39moptions\u001B[38;5;241m.\u001B[39mget(\u001B[38;5;124m\"\u001B[39m\u001B[38;5;124mstorage_options\u001B[39m\u001B[38;5;124m\"\u001B[39m, \u001B[38;5;28;01mNone\u001B[39;00m),\n\u001B[0;32m   1889\u001B[0m )\n\u001B[0;32m   1890\u001B[0m \u001B[38;5;28;01massert\u001B[39;00m \u001B[38;5;28mself\u001B[39m\u001B[38;5;241m.\u001B[39mhandles \u001B[38;5;129;01mis\u001B[39;00m \u001B[38;5;129;01mnot\u001B[39;00m \u001B[38;5;28;01mNone\u001B[39;00m\n\u001B[0;32m   1891\u001B[0m f \u001B[38;5;241m=\u001B[39m \u001B[38;5;28mself\u001B[39m\u001B[38;5;241m.\u001B[39mhandles\u001B[38;5;241m.\u001B[39mhandle\n",
      "File \u001B[1;32m~\\miniconda3\\envs\\earth-observations\\Lib\\site-packages\\pandas\\io\\common.py:873\u001B[0m, in \u001B[0;36mget_handle\u001B[1;34m(path_or_buf, mode, encoding, compression, memory_map, is_text, errors, storage_options)\u001B[0m\n\u001B[0;32m    868\u001B[0m \u001B[38;5;28;01melif\u001B[39;00m \u001B[38;5;28misinstance\u001B[39m(handle, \u001B[38;5;28mstr\u001B[39m):\n\u001B[0;32m    869\u001B[0m     \u001B[38;5;66;03m# Check whether the filename is to be opened in binary mode.\u001B[39;00m\n\u001B[0;32m    870\u001B[0m     \u001B[38;5;66;03m# Binary mode does not support 'encoding' and 'newline'.\u001B[39;00m\n\u001B[0;32m    871\u001B[0m     \u001B[38;5;28;01mif\u001B[39;00m ioargs\u001B[38;5;241m.\u001B[39mencoding \u001B[38;5;129;01mand\u001B[39;00m \u001B[38;5;124m\"\u001B[39m\u001B[38;5;124mb\u001B[39m\u001B[38;5;124m\"\u001B[39m \u001B[38;5;129;01mnot\u001B[39;00m \u001B[38;5;129;01min\u001B[39;00m ioargs\u001B[38;5;241m.\u001B[39mmode:\n\u001B[0;32m    872\u001B[0m         \u001B[38;5;66;03m# Encoding\u001B[39;00m\n\u001B[1;32m--> 873\u001B[0m         handle \u001B[38;5;241m=\u001B[39m \u001B[38;5;28mopen\u001B[39m(\n\u001B[0;32m    874\u001B[0m             handle,\n\u001B[0;32m    875\u001B[0m             ioargs\u001B[38;5;241m.\u001B[39mmode,\n\u001B[0;32m    876\u001B[0m             encoding\u001B[38;5;241m=\u001B[39mioargs\u001B[38;5;241m.\u001B[39mencoding,\n\u001B[0;32m    877\u001B[0m             errors\u001B[38;5;241m=\u001B[39merrors,\n\u001B[0;32m    878\u001B[0m             newline\u001B[38;5;241m=\u001B[39m\u001B[38;5;124m\"\u001B[39m\u001B[38;5;124m\"\u001B[39m,\n\u001B[0;32m    879\u001B[0m         )\n\u001B[0;32m    880\u001B[0m     \u001B[38;5;28;01melse\u001B[39;00m:\n\u001B[0;32m    881\u001B[0m         \u001B[38;5;66;03m# Binary mode\u001B[39;00m\n\u001B[0;32m    882\u001B[0m         handle \u001B[38;5;241m=\u001B[39m \u001B[38;5;28mopen\u001B[39m(handle, ioargs\u001B[38;5;241m.\u001B[39mmode)\n",
      "\u001B[1;31mFileNotFoundError\u001B[0m: [Errno 2] No such file or directory: 'datasets/co2_CMIP6Plus_mon.csv'"
     ]
    }
   ],
   "execution_count": 108
  }
 ],
 "metadata": {
  "kernelspec": {
   "display_name": "Python 3",
   "language": "python",
   "name": "python3"
  },
  "language_info": {
   "codemirror_mode": {
    "name": "ipython",
    "version": 2
   },
   "file_extension": ".py",
   "mimetype": "text/x-python",
   "name": "python",
   "nbconvert_exporter": "python",
   "pygments_lexer": "ipython2",
   "version": "2.7.6"
  }
 },
 "nbformat": 4,
 "nbformat_minor": 5
}
