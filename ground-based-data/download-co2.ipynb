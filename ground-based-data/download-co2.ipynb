{
 "cells": [
  {
   "cell_type": "code",
   "id": "initial_id",
   "metadata": {
    "collapsed": true,
    "jupyter": {
     "is_executing": true
    }
   },
   "source": [
    "CMIP6_VERSION_PROJECT = \"input4MIPs\"\n",
    "CMIP6_VERSION_MIP_ERA = \"CMIP6Plus\"\n",
    "CMIP6_VERSION_SOURCE_ID = \"CR-CMIP-0-4-0\"\n",
    "CIMP6_VERSION_SOURCE_VERSION = \"0.4.0\"\n",
    "#CMIP6_VERSION_GRID = \"gr1-GMNHSH\"\n",
    "CMIP6_VERSION_FREQUENCY = \"mon\"\n",
    "CIMP6_VARIABLE_ID = \"co2\"\n",
    "SEARCH_TAG = f\"cmip6-global-mean-monthly\" #-{CMIP6_VERSION_SOURCE_ID.lower()}\""
   ],
   "outputs": [],
   "execution_count": null
  },
  {
   "metadata": {
    "ExecuteTime": {
     "end_time": "2025-03-22T13:55:08.725247Z",
     "start_time": "2025-03-22T13:55:07.522309Z"
    }
   },
   "cell_type": "code",
   "source": "!uv run esgpull add --tag {SEARCH_TAG} --track project:{CMIP6_VERSION_PROJECT} mip_era:{CMIP6_VERSION_MIP_ERA} source_id:{CMIP6_VERSION_SOURCE_ID} source_version:{CMIP6_VERSION_SOURCE_VERSION} frequency:{CMIP6_VERSION_FREQUENCY} variable_id:{CIMP6_VARIABLE_ID}",
   "id": "a86aa678ac12b44",
   "outputs": [
    {
     "name": "stderr",
     "output_type": "stream",
     "text": [
      "KeyError: 'source_version'\n",
      "See C:\\Users\\FlorenceBockting\\.esgpull\\log\\esgpull-add-2025-03-22_13-55-08.log \n",
      "for error log.\n",
      "Aborted!\n"
     ]
    }
   ],
   "execution_count": 2
  },
  {
   "metadata": {
    "ExecuteTime": {
     "end_time": "2025-03-22T13:54:34.235071Z",
     "start_time": "2025-03-22T13:54:34.147193Z"
    }
   },
   "cell_type": "code",
   "source": "uv venv --python 3.9",
   "id": "709d59c23e2f7be9",
   "outputs": [
    {
     "name": "stdout",
     "output_type": "stream",
     "text": [
      "Note: you may need to restart the kernel to use updated packages.\n"
     ]
    },
    {
     "name": "stderr",
     "output_type": "stream",
     "text": [
      "C:\\Users\\FlorenceBockting\\Documents\\GitHub\\earth-observations\\.venv\\Scripts\\python.exe: No module named uv\n"
     ]
    }
   ],
   "execution_count": 10
  },
  {
   "metadata": {
    "ExecuteTime": {
     "end_time": "2025-03-22T13:55:15.866136Z",
     "start_time": "2025-03-22T13:55:14.706658Z"
    }
   },
   "cell_type": "code",
   "source": "!uv run esgpull add project:CMIP6Plus variable_id:co2 frequency:mon --tag cmip6_monthly_co2",
   "id": "80b9b2bf08fd0b24",
   "outputs": [
    {
     "name": "stdout",
     "output_type": "stream",
     "text": [
      "<465287> untracked\n",
      "`-- tags:        cmip6_monthly_co2\n",
      "    frequency:   mon              \n",
      "    project:     CMIP6Plus        \n",
      "    variable_id: co2              \n",
      "Skipping existing query: <465287>\n"
     ]
    },
    {
     "name": "stderr",
     "output_type": "stream",
     "text": [
      "--- Logging error ---\n",
      "Traceback (most recent call last):\n",
      "  File \"C:\\Users\\FlorenceBockting\\AppData\\Local\\Programs\\Python\\Python313\\Lib\\site-packages\\esgpull\\tui.py\", line 163, in logging\n",
      "    yield\n",
      "  File \"C:\\Users\\FlorenceBockting\\AppData\\Local\\Programs\\Python\\Python313\\Lib\\site-packages\\esgpull\\cli\\add.py\", line 109, in add\n",
      "    esg.ui.print(\":stop_sign: No new query was added.\")\n",
      "    ~~~~~~~~~~~~^^^^^^^^^^^^^^^^^^^^^^^^^^^^^^^^^^^^^^^\n",
      "  File \"C:\\Users\\FlorenceBockting\\AppData\\Local\\Programs\\Python\\Python313\\Lib\\site-packages\\esgpull\\tui.py\", line 225, in print\n",
      "    console.print(msg, **kwargs)\n",
      "    ~~~~~~~~~~~~~^^^^^^^^^^^^^^^\n",
      "  File \"C:\\Users\\FlorenceBockting\\AppData\\Local\\Programs\\Python\\Python313\\Lib\\site-packages\\rich\\console.py\", line 1678, in print\n",
      "    with self:\n",
      "         ^^^^\n",
      "  File \"C:\\Users\\FlorenceBockting\\AppData\\Local\\Programs\\Python\\Python313\\Lib\\site-packages\\rich\\console.py\", line 864, in __exit__\n",
      "    self._exit_buffer()\n",
      "    ~~~~~~~~~~~~~~~~~^^\n",
      "  File \"C:\\Users\\FlorenceBockting\\AppData\\Local\\Programs\\Python\\Python313\\Lib\\site-packages\\rich\\console.py\", line 822, in _exit_buffer\n",
      "    self._check_buffer()\n",
      "    ~~~~~~~~~~~~~~~~~~^^\n",
      "  File \"C:\\Users\\FlorenceBockting\\AppData\\Local\\Programs\\Python\\Python313\\Lib\\site-packages\\rich\\console.py\", line 2019, in _check_buffer\n",
      "    self._write_buffer()\n",
      "    ~~~~~~~~~~~~~~~~~~^^\n",
      "  File \"C:\\Users\\FlorenceBockting\\AppData\\Local\\Programs\\Python\\Python313\\Lib\\site-packages\\rich\\console.py\", line 2055, in _write_buffer\n",
      "    legacy_windows_render(buffer, LegacyWindowsTerm(self.file))\n",
      "    ~~~~~~~~~~~~~~~~~~~~~^^^^^^^^^^^^^^^^^^^^^^^^^^^^^^^^^^^^^^\n",
      "  File \"C:\\Users\\FlorenceBockting\\AppData\\Local\\Programs\\Python\\Python313\\Lib\\site-packages\\rich\\_windows_renderer.py\", line 19, in legacy_windows_render\n",
      "    term.write_text(text)\n",
      "    ~~~~~~~~~~~~~~~^^^^^^\n",
      "  File \"C:\\Users\\FlorenceBockting\\AppData\\Local\\Programs\\Python\\Python313\\Lib\\site-packages\\rich\\_win32_console.py\", line 402, in write_text\n",
      "    self.write(text)\n",
      "    ~~~~~~~~~~^^^^^^\n",
      "  File \"C:\\Users\\FlorenceBockting\\AppData\\Local\\Programs\\Python\\Python313\\Lib\\encodings\\cp1252.py\", line 19, in encode\n",
      "    return codecs.charmap_encode(input,self.errors,encoding_table)[0]\n",
      "           ~~~~~~~~~~~~~~~~~~~~~^^^^^^^^^^^^^^^^^^^^^^^^^^^^^^^^^^\n",
      "UnicodeEncodeError: 'charmap' codec can't encode character '\\U0001f6d1' in position 0: character maps to <undefined>\n",
      "\n",
      "During handling of the above exception, another exception occurred:\n",
      "\n",
      "Traceback (most recent call last):\n",
      "  File \"C:\\Users\\FlorenceBockting\\AppData\\Local\\Programs\\Python\\Python313\\Lib\\logging\\__init__.py\", line 1153, in emit\n",
      "    stream.write(msg + self.terminator)\n",
      "    ~~~~~~~~~~~~^^^^^^^^^^^^^^^^^^^^^^^\n",
      "  File \"C:\\Users\\FlorenceBockting\\AppData\\Local\\Programs\\Python\\Python313\\Lib\\encodings\\cp1252.py\", line 19, in encode\n",
      "    return codecs.charmap_encode(input,self.errors,encoding_table)[0]\n",
      "           ~~~~~~~~~~~~~~~~~~~~~^^^^^^^^^^^^^^^^^^^^^^^^^^^^^^^^^^\n",
      "UnicodeEncodeError: 'charmap' codec can't encode character '\\U0001f6d1' in position 48: character maps to <undefined>\n",
      "Call stack:\n",
      "  File \"<frozen runpy>\", line 198, in _run_module_as_main\n",
      "  File \"<frozen runpy>\", line 88, in _run_code\n",
      "  File \"C:\\Users\\FlorenceBockting\\AppData\\Local\\Programs\\Python\\Python313\\Scripts\\esgpull.exe\\__main__.py\", line 7, in <module>\n",
      "    sys.exit(main())\n",
      "  File \"C:\\Users\\FlorenceBockting\\AppData\\Local\\Programs\\Python\\Python313\\Lib\\site-packages\\esgpull\\cli\\__init__.py\", line 75, in main\n",
      "    cli()\n",
      "  File \"C:\\Users\\FlorenceBockting\\AppData\\Local\\Programs\\Python\\Python313\\Lib\\site-packages\\click\\core.py\", line 1161, in __call__\n",
      "    return self.main(*args, **kwargs)\n",
      "  File \"C:\\Users\\FlorenceBockting\\AppData\\Local\\Programs\\Python\\Python313\\Lib\\site-packages\\click\\core.py\", line 1082, in main\n",
      "    rv = self.invoke(ctx)\n",
      "  File \"C:\\Users\\FlorenceBockting\\AppData\\Local\\Programs\\Python\\Python313\\Lib\\site-packages\\click\\core.py\", line 1697, in invoke\n",
      "    return _process_result(sub_ctx.command.invoke(sub_ctx))\n",
      "  File \"C:\\Users\\FlorenceBockting\\AppData\\Local\\Programs\\Python\\Python313\\Lib\\site-packages\\click\\core.py\", line 1443, in invoke\n",
      "    return ctx.invoke(self.callback, **ctx.params)\n",
      "  File \"C:\\Users\\FlorenceBockting\\AppData\\Local\\Programs\\Python\\Python313\\Lib\\site-packages\\click\\core.py\", line 788, in invoke\n",
      "    return __callback(*args, **kwargs)\n",
      "  File \"C:\\Users\\FlorenceBockting\\AppData\\Local\\Programs\\Python\\Python313\\Lib\\site-packages\\esgpull\\cli\\add.py\", line 65, in add\n",
      "    with esg.ui.logging(\"add\", onraise=Abort):\n",
      "  File \"C:\\Users\\FlorenceBockting\\AppData\\Local\\Programs\\Python\\Python313\\Lib\\contextlib.py\", line 162, in __exit__\n",
      "    self.gen.throw(value)\n",
      "  File \"C:\\Users\\FlorenceBockting\\AppData\\Local\\Programs\\Python\\Python313\\Lib\\site-packages\\esgpull\\tui.py\", line 183, in logging\n",
      "    logging.root.debug(f\"Locals:\\n{locals_text}\")\n",
      "Message: \"Locals:\\n\\U0001f6d1 No new query was added.\\n{'self': <encodings.cp1252.IncrementalEncoder object at 0x0000018594EA4AD0>, \\n'input': '\\U0001f6d1 No new query was added.', 'final': False}\\n\"\n",
      "Arguments: ()\n",
      "UnicodeEncodeError: 'charmap' codec can't encode character '\\U0001f6d1' in \n",
      "position 0: character maps to <undefined>\n",
      "See C:\\Users\\FlorenceBockting\\.esgpull\\log\\esgpull-add-2025-03-22_13-55-15.log \n",
      "for error log.\n",
      "Aborted!\n"
     ]
    }
   ],
   "execution_count": 3
  }
 ],
 "metadata": {
  "kernelspec": {
   "display_name": "Python 3",
   "language": "python",
   "name": "python3"
  },
  "language_info": {
   "codemirror_mode": {
    "name": "ipython",
    "version": 2
   },
   "file_extension": ".py",
   "mimetype": "text/x-python",
   "name": "python",
   "nbconvert_exporter": "python",
   "pygments_lexer": "ipython2",
   "version": "2.7.6"
  }
 },
 "nbformat": 4,
 "nbformat_minor": 5
}
